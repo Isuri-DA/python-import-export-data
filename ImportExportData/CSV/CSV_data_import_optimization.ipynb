{
 "cells": [
  {
   "cell_type": "markdown",
   "id": "cc98b52e",
   "metadata": {},
   "source": [
    "# 5. Read CSV Data using Pandas\n"
   ]
  },
  {
   "cell_type": "code",
   "execution_count": 3,
   "id": "8ae11246",
   "metadata": {},
   "outputs": [
    {
     "name": "stdout",
     "output_type": "stream",
     "text": [
      "Read csv without chunks:  0.007979631423950195  seconds\n",
      "\n",
      "--- HEAD ---\n",
      "                      Title  Rating  BoxOfficeCollection     Budget  \\\n",
      "0  The Silence of the Lambs     8.2            418357897  155958062   \n",
      "1              Pulp Fiction     1.7            430860979  171749337   \n",
      "2                 Inception     7.0            839695028  308699478   \n",
      "3  The Grand Budapest Hotel     4.3            880260298  340976130   \n",
      "4  The Shawshank Redemption     5.4            496941254   28464131   \n",
      "\n",
      "           Director         Producer  \n",
      "0  Steven Spielberg     George Lucas  \n",
      "1     Peter Jackson     David Heyman  \n",
      "2     Peter Jackson     David Heyman  \n",
      "3     David Fincher  Martin Scorsese  \n",
      "4   Stanley Kubrick  Martin Scorsese  \n",
      "\n",
      "--- DESCRIBE ---\n",
      "           Rating  BoxOfficeCollection        Budget\n",
      "count  500.000000         5.000000e+02  5.000000e+02\n",
      "mean     5.289400         4.997177e+08  2.515540e+08\n",
      "std      2.590709         2.915591e+08  1.444676e+08\n",
      "min      1.000000         1.430706e+06  4.145550e+05\n",
      "25%      3.000000         2.641543e+08  1.278987e+08\n",
      "50%      5.100000         5.015806e+08  2.431569e+08\n",
      "75%      7.525000         7.446609e+08  3.872054e+08\n",
      "max     10.000000         9.973486e+08  4.997745e+08\n",
      "\n",
      "--- INFO ---\n",
      "<class 'pandas.core.frame.DataFrame'>\n",
      "RangeIndex: 500 entries, 0 to 499\n",
      "Data columns (total 6 columns):\n",
      " #   Column               Non-Null Count  Dtype  \n",
      "---  ------               --------------  -----  \n",
      " 0   Title                500 non-null    object \n",
      " 1   Rating               500 non-null    float64\n",
      " 2   BoxOfficeCollection  500 non-null    int64  \n",
      " 3   Budget               500 non-null    int64  \n",
      " 4   Director             500 non-null    object \n",
      " 5   Producer             500 non-null    object \n",
      "dtypes: float64(1), int64(2), object(3)\n",
      "memory usage: 23.6+ KB\n",
      "None\n"
     ]
    }
   ],
   "source": [
    "import time\n",
    "import pandas as pd\n",
    "\n",
    "start_time = time.time()\n",
    "\n",
    "data= pd.read_csv(r\"C:\\Users\\P-465\\Music\\GIT\\ImportExportData\\CSV\\data\\Artificial Movies Dataset.csv\")\n",
    "\n",
    "print(\"Read csv without chunks: \", time.time() - start_time, ' seconds')\n",
    "\n",
    "\n",
    "print(\"\\n--- HEAD ---\")\n",
    "print(data.head())\n",
    "print(\"\\n--- DESCRIBE ---\")\n",
    "print(data.describe())\n",
    "print(\"\\n--- INFO ---\")\n",
    "print(data.info())"
   ]
  },
  {
   "cell_type": "markdown",
   "id": "053b47f5",
   "metadata": {},
   "source": [
    "## Importing data chunks"
   ]
  },
  {
   "cell_type": "code",
   "execution_count": 5,
   "id": "6dc76956",
   "metadata": {},
   "outputs": [
    {
     "name": "stdout",
     "output_type": "stream",
     "text": [
      "Read csv with chunks:  0.0019943714141845703 sec\n",
      "\n",
      "--- HEAD ---\n",
      "                      Title  Rating  BoxOfficeCollection     Budget  \\\n",
      "0  The Silence of the Lambs     8.2            418357897  155958062   \n",
      "1              Pulp Fiction     1.7            430860979  171749337   \n",
      "2                 Inception     7.0            839695028  308699478   \n",
      "3  The Grand Budapest Hotel     4.3            880260298  340976130   \n",
      "4  The Shawshank Redemption     5.4            496941254   28464131   \n",
      "\n",
      "           Director         Producer  \n",
      "0  Steven Spielberg     George Lucas  \n",
      "1     Peter Jackson     David Heyman  \n",
      "2     Peter Jackson     David Heyman  \n",
      "3     David Fincher  Martin Scorsese  \n",
      "4   Stanley Kubrick  Martin Scorsese  \n",
      "\n",
      "--- DESCRIBE ---\n",
      "           Rating  BoxOfficeCollection        Budget\n",
      "count  500.000000         5.000000e+02  5.000000e+02\n",
      "mean     5.289400         4.997177e+08  2.515540e+08\n",
      "std      2.590709         2.915591e+08  1.444676e+08\n",
      "min      1.000000         1.430706e+06  4.145550e+05\n",
      "25%      3.000000         2.641543e+08  1.278987e+08\n",
      "50%      5.100000         5.015806e+08  2.431569e+08\n",
      "75%      7.525000         7.446609e+08  3.872054e+08\n",
      "max     10.000000         9.973486e+08  4.997745e+08\n",
      "\n",
      "--- INFO ---\n",
      "<class 'pandas.core.frame.DataFrame'>\n",
      "RangeIndex: 500 entries, 0 to 499\n",
      "Data columns (total 6 columns):\n",
      " #   Column               Non-Null Count  Dtype  \n",
      "---  ------               --------------  -----  \n",
      " 0   Title                500 non-null    object \n",
      " 1   Rating               500 non-null    float64\n",
      " 2   BoxOfficeCollection  500 non-null    int64  \n",
      " 3   Budget               500 non-null    int64  \n",
      " 4   Director             500 non-null    object \n",
      " 5   Producer             500 non-null    object \n",
      "dtypes: float64(1), int64(2), object(3)\n",
      "memory usage: 23.6+ KB\n",
      "None\n"
     ]
    }
   ],
   "source": [
    "start = time.time()\n",
    "#read data in chunks of 1000000=1 million rows at a time\n",
    "chunk = pd.read_csv(r\"C:\\Users\\P-465\\Music\\GIT\\ImportExportData\\CSV\\data\\Artificial Movies Dataset.csv\",chunksize=100)\n",
    "end = time.time()\n",
    "print(\"Read csv with chunks: \",(end-start),\"sec\")\n",
    "pd_df = pd.concat(chunk)\n",
    "\n",
    "print(\"\\n--- HEAD ---\")\n",
    "print(pd_df.head())\n",
    "print(\"\\n--- DESCRIBE ---\")\n",
    "print(pd_df.describe())\n",
    "print(\"\\n--- INFO ---\")\n",
    "print(pd_df.info())"
   ]
  },
  {
   "cell_type": "markdown",
   "id": "ffec01fc",
   "metadata": {},
   "source": [
    "##  Dask to emulate Pandas"
   ]
  },
  {
   "cell_type": "code",
   "execution_count": 6,
   "id": "6e4e919d",
   "metadata": {},
   "outputs": [
    {
     "name": "stdout",
     "output_type": "stream",
     "text": [
      "Read csv with dask:  0.008668899536132812 sec\n",
      "\n",
      "--- HEAD ---\n",
      "                      Title  Rating  BoxOfficeCollection     Budget  \\\n",
      "0  The Silence of the Lambs     8.2            418357897  155958062   \n",
      "1              Pulp Fiction     1.7            430860979  171749337   \n",
      "2                 Inception     7.0            839695028  308699478   \n",
      "3  The Grand Budapest Hotel     4.3            880260298  340976130   \n",
      "4  The Shawshank Redemption     5.4            496941254   28464131   \n",
      "\n",
      "           Director         Producer  \n",
      "0  Steven Spielberg     George Lucas  \n",
      "1     Peter Jackson     David Heyman  \n",
      "2     Peter Jackson     David Heyman  \n",
      "3     David Fincher  Martin Scorsese  \n",
      "4   Stanley Kubrick  Martin Scorsese  \n",
      "\n",
      "--- DESCRIBE ---\n",
      "Dask DataFrame Structure:\n",
      "                Rating BoxOfficeCollection   Budget\n",
      "npartitions=1                                      \n",
      "               float64             float64  float64\n",
      "                   ...                 ...      ...\n",
      "Dask Name: describe-numeric, 29 graph layers\n",
      "\n",
      "--- INFO ---\n",
      "<class 'dask.dataframe.core.DataFrame'>\n",
      "Columns: 6 entries, Title to Producer\n",
      "dtypes: object(3), float64(1), int64(2)None\n"
     ]
    }
   ],
   "source": [
    "from dask import dataframe as dd\n",
    "\n",
    "start = time.time()\n",
    "dask_df = dd.read_csv(r\"C:\\Users\\P-465\\Music\\GIT\\ImportExportData\\CSV\\data\\Artificial Movies Dataset.csv\")\n",
    "end = time.time()\n",
    "print(\"Read csv with dask: \",(end-start),\"sec\")\n",
    "\n",
    "print(\"\\n--- HEAD ---\")\n",
    "print(dask_df.head())\n",
    "print(\"\\n--- DESCRIBE ---\")\n",
    "print(dask_df.describe())\n",
    "print(\"\\n--- INFO ---\")\n",
    "print(dask_df.info())"
   ]
  },
  {
   "cell_type": "code",
   "execution_count": null,
   "id": "3c288cdf",
   "metadata": {},
   "outputs": [],
   "source": []
  }
 ],
 "metadata": {
  "kernelspec": {
   "display_name": "Python 3 (ipykernel)",
   "language": "python",
   "name": "python3"
  },
  "language_info": {
   "codemirror_mode": {
    "name": "ipython",
    "version": 3
   },
   "file_extension": ".py",
   "mimetype": "text/x-python",
   "name": "python",
   "nbconvert_exporter": "python",
   "pygments_lexer": "ipython3",
   "version": "3.11.5"
  }
 },
 "nbformat": 4,
 "nbformat_minor": 5
}
