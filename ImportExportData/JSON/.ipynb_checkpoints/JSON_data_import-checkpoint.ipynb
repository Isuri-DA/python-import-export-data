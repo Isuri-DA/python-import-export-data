{
 "cells": [
  {
   "cell_type": "markdown",
   "id": "7a27ad51",
   "metadata": {},
   "source": [
    "## Load JSON from URL"
   ]
  },
  {
   "cell_type": "code",
   "execution_count": 4,
   "id": "5e9f75a2",
   "metadata": {},
   "outputs": [],
   "source": [
    "import requests\n",
    "import pandas as pd\n",
    "import json"
   ]
  },
  {
   "cell_type": "code",
   "execution_count": 6,
   "id": "8682b34c",
   "metadata": {},
   "outputs": [
    {
     "name": "stdout",
     "output_type": "stream",
     "text": [
      "{'X-Cloud-Trace-Context': '20c84fd8dc747dac81d165e7dcadf6b2/8319801762365097069', 'Accept': '*/*', 'traceparent': '00-20c84fd8dc747dac81d165e7dcadf6b2-7375df9f6770c46d-00', 'User-Agent': 'python-requests/2.31.0', 'Host': 'headers.jsontest.com'}\n"
     ]
    }
   ],
   "source": [
    "url = \"http://headers.jsontest.com/\"\n",
    "response = requests.get(url)\n",
    "data = json.loads(response.text)\n",
    "\n",
    "print(data)"
   ]
  },
  {
   "cell_type": "markdown",
   "id": "fb48bfda",
   "metadata": {},
   "source": [
    "## Load JSON from File"
   ]
  },
  {
   "cell_type": "code",
   "execution_count": null,
   "id": "ae0599ef",
   "metadata": {},
   "outputs": [],
   "source": []
  }
 ],
 "metadata": {
  "kernelspec": {
   "display_name": "Python 3 (ipykernel)",
   "language": "python",
   "name": "python3"
  },
  "language_info": {
   "codemirror_mode": {
    "name": "ipython",
    "version": 3
   },
   "file_extension": ".py",
   "mimetype": "text/x-python",
   "name": "python",
   "nbconvert_exporter": "python",
   "pygments_lexer": "ipython3",
   "version": "3.11.5"
  }
 },
 "nbformat": 4,
 "nbformat_minor": 5
}
